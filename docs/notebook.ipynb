{
 "cells": [
  {
   "cell_type": "markdown",
   "metadata": {},
   "source": [
    "## Installation"
   ]
  },
  {
   "cell_type": "markdown",
   "metadata": {},
   "source": [
    "### Simple installation"
   ]
  },
  {
   "cell_type": "markdown",
   "metadata": {},
   "source": [
    "To install this package run the following command\n",
    "```\n",
    "$ pip install git+https://github.com/aminbouraiss/pdhelpers.git\n",
    "```"
   ]
  },
  {
   "cell_type": "markdown",
   "metadata": {},
   "source": [
    "### From a cloned repository"
   ]
  },
  {
   "cell_type": "markdown",
   "metadata": {},
   "source": [
    "To install it from a cloned repository:\n",
    "\n",
    "```\n",
    "$ git clone https://github.com/aminbouraiss/pdhelpers.git\n",
    "```\n",
    "\n",
    "Then just run the setup.py file from that directory:\n",
    "\n",
    "```\n",
    "$ sudo python setup.py install\n",
    "```"
   ]
  },
  {
   "cell_type": "markdown",
   "metadata": {},
   "source": [
    "## Instantiating the class"
   ]
  },
  {
   "cell_type": "code",
   "execution_count": 1,
   "metadata": {
    "collapsed": true
   },
   "outputs": [],
   "source": [
    "import pdHelpers\n",
    "helpers = pdHelpers.Helpers()"
   ]
  },
  {
   "cell_type": "markdown",
   "metadata": {},
   "source": [
    "## Formatting values"
   ]
  },
  {
   "cell_type": "markdown",
   "metadata": {},
   "source": [
    "The following methods changes the format of the displayed values to faciliate data analysis."
   ]
  },
  {
   "cell_type": "markdown",
   "metadata": {},
   "source": [
    "### Round floats"
   ]
  },
  {
   "cell_type": "markdown",
   "metadata": {},
   "source": [
    "This method automatically rounds values displayed by pandas "
   ]
  },
  {
   "cell_type": "code",
   "execution_count": 5,
   "metadata": {},
   "outputs": [
    {
     "data": {
      "text/plain": [
       "0    3.400638\n",
       "1    7.984441\n",
       "2    7.023958\n",
       "3    7.388083\n",
       "Name: C, dtype: float64"
      ]
     },
     "execution_count": 5,
     "metadata": {},
     "output_type": "execute_result"
    }
   ],
   "source": [
    "import random \n",
    "import pdHelpers\n",
    "helpers = pdHelpers.Helpers()\n",
    "\n",
    "\n",
    "df = helpers.generate_Df() # Generate a test DataFrame\n",
    "df.C = df.C.apply(lambda x: random.uniform(1, 10))\n",
    "df.C"
   ]
  },
  {
   "cell_type": "code",
   "execution_count": 7,
   "metadata": {},
   "outputs": [
    {
     "data": {
      "text/plain": [
       "0   3.40\n",
       "1   7.98\n",
       "2   7.02\n",
       "3   7.39\n",
       "Name: C, dtype: float64"
      ]
     },
     "execution_count": 7,
     "metadata": {},
     "output_type": "execute_result"
    }
   ],
   "source": [
    "helpers.round_floats() # Automatically round floats\n",
    "df.C "
   ]
  },
  {
   "cell_type": "code",
   "execution_count": 8,
   "metadata": {},
   "outputs": [
    {
     "data": {
      "text/plain": [
       "[3.400637971393313, 7.98444055902644, 7.023957929542492, 7.38808312498648]"
      ]
     },
     "execution_count": 8,
     "metadata": {},
     "output_type": "execute_result"
    }
   ],
   "source": [
    "df.C.tolist() # The exported data is untouched"
   ]
  },
  {
   "cell_type": "markdown",
   "metadata": {},
   "source": [
    "### Change the columns width"
   ]
  },
  {
   "cell_type": "markdown",
   "metadata": {},
   "source": [
    "Change the maximum column width (defaults to 150 characters wide)."
   ]
  },
  {
   "cell_type": "code",
   "execution_count": 1,
   "metadata": {},
   "outputs": [
    {
     "data": {
      "text/html": [
       "<div>\n",
       "<style>\n",
       "    .dataframe thead tr:only-child th {\n",
       "        text-align: right;\n",
       "    }\n",
       "\n",
       "    .dataframe thead th {\n",
       "        text-align: left;\n",
       "    }\n",
       "\n",
       "    .dataframe tbody tr th {\n",
       "        vertical-align: top;\n",
       "    }\n",
       "</style>\n",
       "<table border=\"1\" class=\"dataframe\">\n",
       "  <thead>\n",
       "    <tr style=\"text-align: right;\">\n",
       "      <th></th>\n",
       "      <th>A</th>\n",
       "      <th>C</th>\n",
       "      <th>J</th>\n",
       "    </tr>\n",
       "  </thead>\n",
       "  <tbody>\n",
       "    <tr>\n",
       "      <th>0</th>\n",
       "      <td>1.0</td>\n",
       "      <td>8.803177</td>\n",
       "      <td>long text long text long text long text long t...</td>\n",
       "    </tr>\n",
       "    <tr>\n",
       "      <th>1</th>\n",
       "      <td>1.0</td>\n",
       "      <td>9.123195</td>\n",
       "      <td>long text long text long text long text long t...</td>\n",
       "    </tr>\n",
       "    <tr>\n",
       "      <th>2</th>\n",
       "      <td>1.0</td>\n",
       "      <td>4.611685</td>\n",
       "      <td>long text long text long text long text long t...</td>\n",
       "    </tr>\n",
       "    <tr>\n",
       "      <th>3</th>\n",
       "      <td>1.0</td>\n",
       "      <td>8.317267</td>\n",
       "      <td>long text long text long text long text long t...</td>\n",
       "    </tr>\n",
       "  </tbody>\n",
       "</table>\n",
       "</div>"
      ],
      "text/plain": [
       "     A         C                                                  J\n",
       "0  1.0  8.803177  long text long text long text long text long t...\n",
       "1  1.0  9.123195  long text long text long text long text long t...\n",
       "2  1.0  4.611685  long text long text long text long text long t...\n",
       "3  1.0  8.317267  long text long text long text long text long t..."
      ]
     },
     "execution_count": 1,
     "metadata": {},
     "output_type": "execute_result"
    }
   ],
   "source": [
    "import random \n",
    "import pdHelpers\n",
    "\n",
    "helpers = pdHelpers.Helpers()\n",
    "\n",
    "# Create a dataFrame with a column 150 characters wide\n",
    "df = helpers.generate_Df() # Generate a test DataFrame\n",
    "df.C = df.C.apply(lambda x: random.uniform(1, 10))\n",
    "longDf = (df[['A','C']]\n",
    " .assign(J='long text ' * 15 )\n",
    ")\n",
    "\n",
    "# Truncated values are replaced by an ellipsis.\n",
    "longDf"
   ]
  },
  {
   "cell_type": "code",
   "execution_count": 2,
   "metadata": {
    "scrolled": true
   },
   "outputs": [
    {
     "data": {
      "text/html": [
       "<div>\n",
       "<style>\n",
       "    .dataframe thead tr:only-child th {\n",
       "        text-align: right;\n",
       "    }\n",
       "\n",
       "    .dataframe thead th {\n",
       "        text-align: left;\n",
       "    }\n",
       "\n",
       "    .dataframe tbody tr th {\n",
       "        vertical-align: top;\n",
       "    }\n",
       "</style>\n",
       "<table border=\"1\" class=\"dataframe\">\n",
       "  <thead>\n",
       "    <tr style=\"text-align: right;\">\n",
       "      <th></th>\n",
       "      <th>A</th>\n",
       "      <th>C</th>\n",
       "      <th>J</th>\n",
       "    </tr>\n",
       "  </thead>\n",
       "  <tbody>\n",
       "    <tr>\n",
       "      <th>0</th>\n",
       "      <td>1.0</td>\n",
       "      <td>8.803177</td>\n",
       "      <td>long text long text long text long text long text long text long text long text long text long text long text long text long text long text long text</td>\n",
       "    </tr>\n",
       "    <tr>\n",
       "      <th>1</th>\n",
       "      <td>1.0</td>\n",
       "      <td>9.123195</td>\n",
       "      <td>long text long text long text long text long text long text long text long text long text long text long text long text long text long text long text</td>\n",
       "    </tr>\n",
       "    <tr>\n",
       "      <th>2</th>\n",
       "      <td>1.0</td>\n",
       "      <td>4.611685</td>\n",
       "      <td>long text long text long text long text long text long text long text long text long text long text long text long text long text long text long text</td>\n",
       "    </tr>\n",
       "    <tr>\n",
       "      <th>3</th>\n",
       "      <td>1.0</td>\n",
       "      <td>8.317267</td>\n",
       "      <td>long text long text long text long text long text long text long text long text long text long text long text long text long text long text long text</td>\n",
       "    </tr>\n",
       "  </tbody>\n",
       "</table>\n",
       "</div>"
      ],
      "text/plain": [
       "     A         C  \\\n",
       "0  1.0  8.803177   \n",
       "1  1.0  9.123195   \n",
       "2  1.0  4.611685   \n",
       "3  1.0  8.317267   \n",
       "\n",
       "                                                                                                                                                        J  \n",
       "0  long text long text long text long text long text long text long text long text long text long text long text long text long text long text long text   \n",
       "1  long text long text long text long text long text long text long text long text long text long text long text long text long text long text long text   \n",
       "2  long text long text long text long text long text long text long text long text long text long text long text long text long text long text long text   \n",
       "3  long text long text long text long text long text long text long text long text long text long text long text long text long text long text long text   "
      ]
     },
     "execution_count": 2,
     "metadata": {},
     "output_type": "execute_result"
    }
   ],
   "source": [
    "# Change the column width to 300 characters\n",
    "helpers.columnsWidth(300)\n",
    "\n",
    "# The column is no longer truncated\n",
    "longDf"
   ]
  },
  {
   "cell_type": "markdown",
   "metadata": {},
   "source": [
    "### Display more columns"
   ]
  },
  {
   "cell_type": "markdown",
   "metadata": {},
   "source": [
    "Changes the maximum number of untruncated columns (defaults to 40)."
   ]
  },
  {
   "cell_type": "code",
   "execution_count": 1,
   "metadata": {
    "scrolled": true
   },
   "outputs": [
    {
     "data": {
      "text/html": [
       "<div>\n",
       "<style>\n",
       "    .dataframe thead tr:only-child th {\n",
       "        text-align: right;\n",
       "    }\n",
       "\n",
       "    .dataframe thead th {\n",
       "        text-align: left;\n",
       "    }\n",
       "\n",
       "    .dataframe tbody tr th {\n",
       "        vertical-align: top;\n",
       "    }\n",
       "</style>\n",
       "<table border=\"1\" class=\"dataframe\">\n",
       "  <thead>\n",
       "    <tr style=\"text-align: right;\">\n",
       "      <th></th>\n",
       "      <th>0</th>\n",
       "      <th>1</th>\n",
       "      <th>2</th>\n",
       "      <th>3</th>\n",
       "      <th>4</th>\n",
       "      <th>5</th>\n",
       "      <th>6</th>\n",
       "      <th>7</th>\n",
       "      <th>8</th>\n",
       "      <th>9</th>\n",
       "      <th>...</th>\n",
       "      <th>14</th>\n",
       "      <th>15</th>\n",
       "      <th>16</th>\n",
       "      <th>17</th>\n",
       "      <th>18</th>\n",
       "      <th>19</th>\n",
       "      <th>20</th>\n",
       "      <th>21</th>\n",
       "      <th>22</th>\n",
       "      <th>23</th>\n",
       "    </tr>\n",
       "  </thead>\n",
       "  <tbody>\n",
       "    <tr>\n",
       "      <th>0</th>\n",
       "      <td>0.072880</td>\n",
       "      <td>0.763096</td>\n",
       "      <td>0.813992</td>\n",
       "      <td>0.278522</td>\n",
       "      <td>0.156192</td>\n",
       "      <td>0.376699</td>\n",
       "      <td>0.074667</td>\n",
       "      <td>0.339499</td>\n",
       "      <td>0.464146</td>\n",
       "      <td>0.555443</td>\n",
       "      <td>...</td>\n",
       "      <td>0.720152</td>\n",
       "      <td>0.791934</td>\n",
       "      <td>0.886861</td>\n",
       "      <td>0.243501</td>\n",
       "      <td>0.912817</td>\n",
       "      <td>0.745485</td>\n",
       "      <td>0.310526</td>\n",
       "      <td>0.596069</td>\n",
       "      <td>0.559586</td>\n",
       "      <td>0.787782</td>\n",
       "    </tr>\n",
       "    <tr>\n",
       "      <th>1</th>\n",
       "      <td>0.243877</td>\n",
       "      <td>0.993720</td>\n",
       "      <td>0.623229</td>\n",
       "      <td>0.119818</td>\n",
       "      <td>0.640403</td>\n",
       "      <td>0.977420</td>\n",
       "      <td>0.237943</td>\n",
       "      <td>0.668025</td>\n",
       "      <td>0.735992</td>\n",
       "      <td>0.464591</td>\n",
       "      <td>...</td>\n",
       "      <td>0.132466</td>\n",
       "      <td>0.171589</td>\n",
       "      <td>0.839932</td>\n",
       "      <td>0.457072</td>\n",
       "      <td>0.405125</td>\n",
       "      <td>0.507673</td>\n",
       "      <td>0.796509</td>\n",
       "      <td>0.376811</td>\n",
       "      <td>0.439065</td>\n",
       "      <td>0.124278</td>\n",
       "    </tr>\n",
       "    <tr>\n",
       "      <th>2</th>\n",
       "      <td>0.342922</td>\n",
       "      <td>0.614482</td>\n",
       "      <td>0.889817</td>\n",
       "      <td>0.691211</td>\n",
       "      <td>0.156495</td>\n",
       "      <td>0.340927</td>\n",
       "      <td>0.610162</td>\n",
       "      <td>0.754342</td>\n",
       "      <td>0.724617</td>\n",
       "      <td>0.094956</td>\n",
       "      <td>...</td>\n",
       "      <td>0.603796</td>\n",
       "      <td>0.298899</td>\n",
       "      <td>0.406135</td>\n",
       "      <td>0.563099</td>\n",
       "      <td>0.467862</td>\n",
       "      <td>0.128168</td>\n",
       "      <td>0.975015</td>\n",
       "      <td>0.673482</td>\n",
       "      <td>0.720828</td>\n",
       "      <td>0.110346</td>\n",
       "    </tr>\n",
       "    <tr>\n",
       "      <th>3</th>\n",
       "      <td>0.692669</td>\n",
       "      <td>0.580550</td>\n",
       "      <td>0.305752</td>\n",
       "      <td>0.582524</td>\n",
       "      <td>0.551636</td>\n",
       "      <td>0.796934</td>\n",
       "      <td>0.717072</td>\n",
       "      <td>0.876030</td>\n",
       "      <td>0.913818</td>\n",
       "      <td>0.036550</td>\n",
       "      <td>...</td>\n",
       "      <td>0.831621</td>\n",
       "      <td>0.526914</td>\n",
       "      <td>0.698815</td>\n",
       "      <td>0.984493</td>\n",
       "      <td>0.339227</td>\n",
       "      <td>0.435308</td>\n",
       "      <td>0.158343</td>\n",
       "      <td>0.702512</td>\n",
       "      <td>0.937638</td>\n",
       "      <td>0.144690</td>\n",
       "    </tr>\n",
       "    <tr>\n",
       "      <th>4</th>\n",
       "      <td>0.401414</td>\n",
       "      <td>0.122228</td>\n",
       "      <td>0.435908</td>\n",
       "      <td>0.509301</td>\n",
       "      <td>0.292995</td>\n",
       "      <td>0.269782</td>\n",
       "      <td>0.573507</td>\n",
       "      <td>0.526350</td>\n",
       "      <td>0.086608</td>\n",
       "      <td>0.906121</td>\n",
       "      <td>...</td>\n",
       "      <td>0.106145</td>\n",
       "      <td>0.686782</td>\n",
       "      <td>0.770461</td>\n",
       "      <td>0.197319</td>\n",
       "      <td>0.294803</td>\n",
       "      <td>0.231304</td>\n",
       "      <td>0.799670</td>\n",
       "      <td>0.585498</td>\n",
       "      <td>0.068396</td>\n",
       "      <td>0.556537</td>\n",
       "    </tr>\n",
       "  </tbody>\n",
       "</table>\n",
       "<p>5 rows × 24 columns</p>\n",
       "</div>"
      ],
      "text/plain": [
       "         0         1         2         3         4         5         6   \\\n",
       "0  0.072880  0.763096  0.813992  0.278522  0.156192  0.376699  0.074667   \n",
       "1  0.243877  0.993720  0.623229  0.119818  0.640403  0.977420  0.237943   \n",
       "2  0.342922  0.614482  0.889817  0.691211  0.156495  0.340927  0.610162   \n",
       "3  0.692669  0.580550  0.305752  0.582524  0.551636  0.796934  0.717072   \n",
       "4  0.401414  0.122228  0.435908  0.509301  0.292995  0.269782  0.573507   \n",
       "\n",
       "         7         8         9     ...           14        15        16  \\\n",
       "0  0.339499  0.464146  0.555443    ...     0.720152  0.791934  0.886861   \n",
       "1  0.668025  0.735992  0.464591    ...     0.132466  0.171589  0.839932   \n",
       "2  0.754342  0.724617  0.094956    ...     0.603796  0.298899  0.406135   \n",
       "3  0.876030  0.913818  0.036550    ...     0.831621  0.526914  0.698815   \n",
       "4  0.526350  0.086608  0.906121    ...     0.106145  0.686782  0.770461   \n",
       "\n",
       "         17        18        19        20        21        22        23  \n",
       "0  0.243501  0.912817  0.745485  0.310526  0.596069  0.559586  0.787782  \n",
       "1  0.457072  0.405125  0.507673  0.796509  0.376811  0.439065  0.124278  \n",
       "2  0.563099  0.467862  0.128168  0.975015  0.673482  0.720828  0.110346  \n",
       "3  0.984493  0.339227  0.435308  0.158343  0.702512  0.937638  0.144690  \n",
       "4  0.197319  0.294803  0.231304  0.799670  0.585498  0.068396  0.556537  \n",
       "\n",
       "[5 rows x 24 columns]"
      ]
     },
     "execution_count": 1,
     "metadata": {},
     "output_type": "execute_result"
    }
   ],
   "source": [
    "import numpy as np\n",
    "import pandas as pd\n",
    "import pdHelpers\n",
    "\n",
    "helpers = pdHelpers.Helpers()\n",
    "\n",
    "# Create a dataFrame 24 columns wide\n",
    "cols = np.random.rand(5,24)\n",
    "df = pd.DataFrame(cols)\n",
    "\n",
    "# Truncated columns are replaced by an ellipsis.\n",
    "df"
   ]
  },
  {
   "cell_type": "code",
   "execution_count": 2,
   "metadata": {},
   "outputs": [
    {
     "data": {
      "text/html": [
       "<div>\n",
       "<style>\n",
       "    .dataframe thead tr:only-child th {\n",
       "        text-align: right;\n",
       "    }\n",
       "\n",
       "    .dataframe thead th {\n",
       "        text-align: left;\n",
       "    }\n",
       "\n",
       "    .dataframe tbody tr th {\n",
       "        vertical-align: top;\n",
       "    }\n",
       "</style>\n",
       "<table border=\"1\" class=\"dataframe\">\n",
       "  <thead>\n",
       "    <tr style=\"text-align: right;\">\n",
       "      <th></th>\n",
       "      <th>0</th>\n",
       "      <th>1</th>\n",
       "      <th>2</th>\n",
       "      <th>3</th>\n",
       "      <th>4</th>\n",
       "      <th>5</th>\n",
       "      <th>6</th>\n",
       "      <th>7</th>\n",
       "      <th>8</th>\n",
       "      <th>9</th>\n",
       "      <th>10</th>\n",
       "      <th>11</th>\n",
       "      <th>12</th>\n",
       "      <th>13</th>\n",
       "      <th>14</th>\n",
       "      <th>15</th>\n",
       "      <th>16</th>\n",
       "      <th>17</th>\n",
       "      <th>18</th>\n",
       "      <th>19</th>\n",
       "      <th>20</th>\n",
       "      <th>21</th>\n",
       "      <th>22</th>\n",
       "      <th>23</th>\n",
       "    </tr>\n",
       "  </thead>\n",
       "  <tbody>\n",
       "    <tr>\n",
       "      <th>0</th>\n",
       "      <td>0.072880</td>\n",
       "      <td>0.763096</td>\n",
       "      <td>0.813992</td>\n",
       "      <td>0.278522</td>\n",
       "      <td>0.156192</td>\n",
       "      <td>0.376699</td>\n",
       "      <td>0.074667</td>\n",
       "      <td>0.339499</td>\n",
       "      <td>0.464146</td>\n",
       "      <td>0.555443</td>\n",
       "      <td>0.476052</td>\n",
       "      <td>0.052743</td>\n",
       "      <td>0.497787</td>\n",
       "      <td>0.900314</td>\n",
       "      <td>0.720152</td>\n",
       "      <td>0.791934</td>\n",
       "      <td>0.886861</td>\n",
       "      <td>0.243501</td>\n",
       "      <td>0.912817</td>\n",
       "      <td>0.745485</td>\n",
       "      <td>0.310526</td>\n",
       "      <td>0.596069</td>\n",
       "      <td>0.559586</td>\n",
       "      <td>0.787782</td>\n",
       "    </tr>\n",
       "    <tr>\n",
       "      <th>1</th>\n",
       "      <td>0.243877</td>\n",
       "      <td>0.993720</td>\n",
       "      <td>0.623229</td>\n",
       "      <td>0.119818</td>\n",
       "      <td>0.640403</td>\n",
       "      <td>0.977420</td>\n",
       "      <td>0.237943</td>\n",
       "      <td>0.668025</td>\n",
       "      <td>0.735992</td>\n",
       "      <td>0.464591</td>\n",
       "      <td>0.887112</td>\n",
       "      <td>0.195534</td>\n",
       "      <td>0.215006</td>\n",
       "      <td>0.651067</td>\n",
       "      <td>0.132466</td>\n",
       "      <td>0.171589</td>\n",
       "      <td>0.839932</td>\n",
       "      <td>0.457072</td>\n",
       "      <td>0.405125</td>\n",
       "      <td>0.507673</td>\n",
       "      <td>0.796509</td>\n",
       "      <td>0.376811</td>\n",
       "      <td>0.439065</td>\n",
       "      <td>0.124278</td>\n",
       "    </tr>\n",
       "    <tr>\n",
       "      <th>2</th>\n",
       "      <td>0.342922</td>\n",
       "      <td>0.614482</td>\n",
       "      <td>0.889817</td>\n",
       "      <td>0.691211</td>\n",
       "      <td>0.156495</td>\n",
       "      <td>0.340927</td>\n",
       "      <td>0.610162</td>\n",
       "      <td>0.754342</td>\n",
       "      <td>0.724617</td>\n",
       "      <td>0.094956</td>\n",
       "      <td>0.494325</td>\n",
       "      <td>0.831894</td>\n",
       "      <td>0.898089</td>\n",
       "      <td>0.097960</td>\n",
       "      <td>0.603796</td>\n",
       "      <td>0.298899</td>\n",
       "      <td>0.406135</td>\n",
       "      <td>0.563099</td>\n",
       "      <td>0.467862</td>\n",
       "      <td>0.128168</td>\n",
       "      <td>0.975015</td>\n",
       "      <td>0.673482</td>\n",
       "      <td>0.720828</td>\n",
       "      <td>0.110346</td>\n",
       "    </tr>\n",
       "    <tr>\n",
       "      <th>3</th>\n",
       "      <td>0.692669</td>\n",
       "      <td>0.580550</td>\n",
       "      <td>0.305752</td>\n",
       "      <td>0.582524</td>\n",
       "      <td>0.551636</td>\n",
       "      <td>0.796934</td>\n",
       "      <td>0.717072</td>\n",
       "      <td>0.876030</td>\n",
       "      <td>0.913818</td>\n",
       "      <td>0.036550</td>\n",
       "      <td>0.317423</td>\n",
       "      <td>0.134839</td>\n",
       "      <td>0.266308</td>\n",
       "      <td>0.411994</td>\n",
       "      <td>0.831621</td>\n",
       "      <td>0.526914</td>\n",
       "      <td>0.698815</td>\n",
       "      <td>0.984493</td>\n",
       "      <td>0.339227</td>\n",
       "      <td>0.435308</td>\n",
       "      <td>0.158343</td>\n",
       "      <td>0.702512</td>\n",
       "      <td>0.937638</td>\n",
       "      <td>0.144690</td>\n",
       "    </tr>\n",
       "    <tr>\n",
       "      <th>4</th>\n",
       "      <td>0.401414</td>\n",
       "      <td>0.122228</td>\n",
       "      <td>0.435908</td>\n",
       "      <td>0.509301</td>\n",
       "      <td>0.292995</td>\n",
       "      <td>0.269782</td>\n",
       "      <td>0.573507</td>\n",
       "      <td>0.526350</td>\n",
       "      <td>0.086608</td>\n",
       "      <td>0.906121</td>\n",
       "      <td>0.435981</td>\n",
       "      <td>0.426492</td>\n",
       "      <td>0.297920</td>\n",
       "      <td>0.094129</td>\n",
       "      <td>0.106145</td>\n",
       "      <td>0.686782</td>\n",
       "      <td>0.770461</td>\n",
       "      <td>0.197319</td>\n",
       "      <td>0.294803</td>\n",
       "      <td>0.231304</td>\n",
       "      <td>0.799670</td>\n",
       "      <td>0.585498</td>\n",
       "      <td>0.068396</td>\n",
       "      <td>0.556537</td>\n",
       "    </tr>\n",
       "  </tbody>\n",
       "</table>\n",
       "</div>"
      ],
      "text/plain": [
       "         0         1         2         3         4         5         6   \\\n",
       "0  0.072880  0.763096  0.813992  0.278522  0.156192  0.376699  0.074667   \n",
       "1  0.243877  0.993720  0.623229  0.119818  0.640403  0.977420  0.237943   \n",
       "2  0.342922  0.614482  0.889817  0.691211  0.156495  0.340927  0.610162   \n",
       "3  0.692669  0.580550  0.305752  0.582524  0.551636  0.796934  0.717072   \n",
       "4  0.401414  0.122228  0.435908  0.509301  0.292995  0.269782  0.573507   \n",
       "\n",
       "         7         8         9         10        11        12        13  \\\n",
       "0  0.339499  0.464146  0.555443  0.476052  0.052743  0.497787  0.900314   \n",
       "1  0.668025  0.735992  0.464591  0.887112  0.195534  0.215006  0.651067   \n",
       "2  0.754342  0.724617  0.094956  0.494325  0.831894  0.898089  0.097960   \n",
       "3  0.876030  0.913818  0.036550  0.317423  0.134839  0.266308  0.411994   \n",
       "4  0.526350  0.086608  0.906121  0.435981  0.426492  0.297920  0.094129   \n",
       "\n",
       "         14        15        16        17        18        19        20  \\\n",
       "0  0.720152  0.791934  0.886861  0.243501  0.912817  0.745485  0.310526   \n",
       "1  0.132466  0.171589  0.839932  0.457072  0.405125  0.507673  0.796509   \n",
       "2  0.603796  0.298899  0.406135  0.563099  0.467862  0.128168  0.975015   \n",
       "3  0.831621  0.526914  0.698815  0.984493  0.339227  0.435308  0.158343   \n",
       "4  0.106145  0.686782  0.770461  0.197319  0.294803  0.231304  0.799670   \n",
       "\n",
       "         21        22        23  \n",
       "0  0.596069  0.559586  0.787782  \n",
       "1  0.376811  0.439065  0.124278  \n",
       "2  0.673482  0.720828  0.110346  \n",
       "3  0.702512  0.937638  0.144690  \n",
       "4  0.585498  0.068396  0.556537  "
      ]
     },
     "execution_count": 2,
     "metadata": {},
     "output_type": "execute_result"
    }
   ],
   "source": [
    "# Set the maximum columns displayed to 30\n",
    "helpers.maxColumns(30)\n",
    "\n",
    "# All the columns are displayed\n",
    "df"
   ]
  },
  {
   "cell_type": "markdown",
   "metadata": {},
   "source": [
    "## Analyzing a dataFrame"
   ]
  },
  {
   "cell_type": "markdown",
   "metadata": {},
   "source": [
    "### Return the value count for each column (incuding NaNs)"
   ]
  },
  {
   "cell_type": "markdown",
   "metadata": {},
   "source": [
    "Returns the value count (including NaNs) for each column in a dict."
   ]
  },
  {
   "cell_type": "code",
   "execution_count": 1,
   "metadata": {},
   "outputs": [
    {
     "data": {
      "text/html": [
       "<div>\n",
       "<style>\n",
       "    .dataframe thead tr:only-child th {\n",
       "        text-align: right;\n",
       "    }\n",
       "\n",
       "    .dataframe thead th {\n",
       "        text-align: left;\n",
       "    }\n",
       "\n",
       "    .dataframe tbody tr th {\n",
       "        vertical-align: top;\n",
       "    }\n",
       "</style>\n",
       "<table border=\"1\" class=\"dataframe\">\n",
       "  <thead>\n",
       "    <tr style=\"text-align: right;\">\n",
       "      <th></th>\n",
       "      <th>A</th>\n",
       "      <th>B</th>\n",
       "      <th>C</th>\n",
       "      <th>D</th>\n",
       "    </tr>\n",
       "  </thead>\n",
       "  <tbody>\n",
       "    <tr>\n",
       "      <th>0</th>\n",
       "      <td>0.565309</td>\n",
       "      <td>0.006483</td>\n",
       "      <td>0.354735</td>\n",
       "      <td>5.000000</td>\n",
       "    </tr>\n",
       "    <tr>\n",
       "      <th>1</th>\n",
       "      <td>NaN</td>\n",
       "      <td>0.825698</td>\n",
       "      <td>0.354735</td>\n",
       "      <td>5.000000</td>\n",
       "    </tr>\n",
       "    <tr>\n",
       "      <th>2</th>\n",
       "      <td>0.954067</td>\n",
       "      <td>0.725308</td>\n",
       "      <td>0.354735</td>\n",
       "      <td>5.000000</td>\n",
       "    </tr>\n",
       "    <tr>\n",
       "      <th>3</th>\n",
       "      <td>0.153352</td>\n",
       "      <td>0.606400</td>\n",
       "      <td>0.354735</td>\n",
       "      <td>0.846074</td>\n",
       "    </tr>\n",
       "    <tr>\n",
       "      <th>4</th>\n",
       "      <td>0.565309</td>\n",
       "      <td>0.693732</td>\n",
       "      <td>NaN</td>\n",
       "      <td>NaN</td>\n",
       "    </tr>\n",
       "  </tbody>\n",
       "</table>\n",
       "</div>"
      ],
      "text/plain": [
       "          A         B         C         D\n",
       "0  0.565309  0.006483  0.354735  5.000000\n",
       "1       NaN  0.825698  0.354735  5.000000\n",
       "2  0.954067  0.725308  0.354735  5.000000\n",
       "3  0.153352  0.606400  0.354735  0.846074\n",
       "4  0.565309  0.693732       NaN       NaN"
      ]
     },
     "execution_count": 1,
     "metadata": {},
     "output_type": "execute_result"
    }
   ],
   "source": [
    "import numpy as np\n",
    "import pandas as pd\n",
    "\n",
    "# Create a dataFrame 24 columns wide\n",
    "cols = np.random.rand(5,4)\n",
    "df = pd.DataFrame(cols,columns=list('ABCD'))\n",
    "\n",
    "df.A[:2] = df.A[4]\n",
    "df.C[1:4] = df.C[0]\n",
    "df.D[3] = df.D[2]\n",
    "df.C[4] = None\n",
    "df.D[4] = None\n",
    "df.A[1] = None\n",
    "df.D[:3] = 5\n",
    "\n",
    "df"
   ]
  },
  {
   "cell_type": "code",
   "execution_count": 2,
   "metadata": {},
   "outputs": [
    {
     "name": "stdout",
     "output_type": "stream",
     "text": [
      "      Value  Count Column\n",
      "0  0.354735      4      C\n",
      "1       NaN      1      C\n"
     ]
    }
   ],
   "source": [
    "import pdHelpers\n",
    "\n",
    "# Instantiate the module\n",
    "helpers = pdHelpers.Helpers()\n",
    "\n",
    "# Print the count for the column C\n",
    "colCount = helpers.valueCount(df)\n",
    "print(colCount['C'])"
   ]
  },
  {
   "cell_type": "markdown",
   "metadata": {},
   "source": [
    "### Display the value  count for each column (Including NaNs)"
   ]
  },
  {
   "cell_type": "markdown",
   "metadata": {},
   "source": [
    "Displays the value count (including NaNs) for each column."
   ]
  },
  {
   "cell_type": "code",
   "execution_count": 1,
   "metadata": {
    "scrolled": false
   },
   "outputs": [
    {
     "name": "stdout",
     "output_type": "stream",
     "text": [
      "          A         B         C         D\n",
      "0  0.233378  0.510658  0.909901  5.000000\n",
      "1       NaN  0.908558  0.909901  5.000000\n",
      "2  0.000251  0.973638  0.909901  5.000000\n",
      "3  0.721885  0.664116  0.909901  0.263451\n",
      "4  0.233378  0.359453       NaN       NaN\n"
     ]
    }
   ],
   "source": [
    "import numpy as np\n",
    "import pandas as pd\n",
    "\n",
    "# Create a dataFrame 24 columns wide\n",
    "cols = np.random.rand(5,4)\n",
    "df = pd.DataFrame(cols,columns=list('ABCD'))\n",
    "\n",
    "df.A[:2] = df.A[4]\n",
    "df.C[1:4] = df.C[0]\n",
    "df.D[3] = df.D[2]\n",
    "df.C[4] = None\n",
    "df.D[4] = None\n",
    "df.A[1] = None\n",
    "df.D[:3] = 5\n",
    "\n",
    "print(df)"
   ]
  },
  {
   "cell_type": "code",
   "execution_count": 2,
   "metadata": {},
   "outputs": [
    {
     "data": {
      "text/html": [
       "<h4 style='color:blue'>Column A</h4><table border=\"1\" class=\"dataframe\">\n",
       "  <thead>\n",
       "    <tr style=\"text-align: right;\">\n",
       "      <th></th>\n",
       "      <th>Value</th>\n",
       "      <th>Count</th>\n",
       "      <th>Column</th>\n",
       "    </tr>\n",
       "  </thead>\n",
       "  <tbody>\n",
       "    <tr>\n",
       "      <th>0</th>\n",
       "      <td>0.233378</td>\n",
       "      <td>2</td>\n",
       "      <td>A</td>\n",
       "    </tr>\n",
       "    <tr>\n",
       "      <th>1</th>\n",
       "      <td>0.721885</td>\n",
       "      <td>1</td>\n",
       "      <td>A</td>\n",
       "    </tr>\n",
       "    <tr>\n",
       "      <th>2</th>\n",
       "      <td>0.000251</td>\n",
       "      <td>1</td>\n",
       "      <td>A</td>\n",
       "    </tr>\n",
       "    <tr>\n",
       "      <th>3</th>\n",
       "      <td>NaN</td>\n",
       "      <td>1</td>\n",
       "      <td>A</td>\n",
       "    </tr>\n",
       "  </tbody>\n",
       "</table>"
      ],
      "text/plain": [
       "<IPython.core.display.HTML object>"
      ]
     },
     "metadata": {},
     "output_type": "display_data"
    },
    {
     "data": {
      "text/html": [
       "<h4 style='color:blue'>Column B</h4><table border=\"1\" class=\"dataframe\">\n",
       "  <thead>\n",
       "    <tr style=\"text-align: right;\">\n",
       "      <th></th>\n",
       "      <th>Value</th>\n",
       "      <th>Count</th>\n",
       "      <th>Column</th>\n",
       "    </tr>\n",
       "  </thead>\n",
       "  <tbody>\n",
       "    <tr>\n",
       "      <th>0</th>\n",
       "      <td>0.973638</td>\n",
       "      <td>1</td>\n",
       "      <td>B</td>\n",
       "    </tr>\n",
       "    <tr>\n",
       "      <th>1</th>\n",
       "      <td>0.359453</td>\n",
       "      <td>1</td>\n",
       "      <td>B</td>\n",
       "    </tr>\n",
       "    <tr>\n",
       "      <th>2</th>\n",
       "      <td>0.664116</td>\n",
       "      <td>1</td>\n",
       "      <td>B</td>\n",
       "    </tr>\n",
       "    <tr>\n",
       "      <th>3</th>\n",
       "      <td>0.908558</td>\n",
       "      <td>1</td>\n",
       "      <td>B</td>\n",
       "    </tr>\n",
       "    <tr>\n",
       "      <th>4</th>\n",
       "      <td>0.510658</td>\n",
       "      <td>1</td>\n",
       "      <td>B</td>\n",
       "    </tr>\n",
       "  </tbody>\n",
       "</table>"
      ],
      "text/plain": [
       "<IPython.core.display.HTML object>"
      ]
     },
     "metadata": {},
     "output_type": "display_data"
    },
    {
     "data": {
      "text/html": [
       "<h4 style='color:blue'>Column C</h4><table border=\"1\" class=\"dataframe\">\n",
       "  <thead>\n",
       "    <tr style=\"text-align: right;\">\n",
       "      <th></th>\n",
       "      <th>Value</th>\n",
       "      <th>Count</th>\n",
       "      <th>Column</th>\n",
       "    </tr>\n",
       "  </thead>\n",
       "  <tbody>\n",
       "    <tr>\n",
       "      <th>0</th>\n",
       "      <td>0.909901</td>\n",
       "      <td>4</td>\n",
       "      <td>C</td>\n",
       "    </tr>\n",
       "    <tr>\n",
       "      <th>1</th>\n",
       "      <td>NaN</td>\n",
       "      <td>1</td>\n",
       "      <td>C</td>\n",
       "    </tr>\n",
       "  </tbody>\n",
       "</table>"
      ],
      "text/plain": [
       "<IPython.core.display.HTML object>"
      ]
     },
     "metadata": {},
     "output_type": "display_data"
    },
    {
     "data": {
      "text/html": [
       "<h4 style='color:blue'>Column D</h4><table border=\"1\" class=\"dataframe\">\n",
       "  <thead>\n",
       "    <tr style=\"text-align: right;\">\n",
       "      <th></th>\n",
       "      <th>Value</th>\n",
       "      <th>Count</th>\n",
       "      <th>Column</th>\n",
       "    </tr>\n",
       "  </thead>\n",
       "  <tbody>\n",
       "    <tr>\n",
       "      <th>0</th>\n",
       "      <td>5.000000</td>\n",
       "      <td>3</td>\n",
       "      <td>D</td>\n",
       "    </tr>\n",
       "    <tr>\n",
       "      <th>1</th>\n",
       "      <td>0.263451</td>\n",
       "      <td>1</td>\n",
       "      <td>D</td>\n",
       "    </tr>\n",
       "    <tr>\n",
       "      <th>2</th>\n",
       "      <td>NaN</td>\n",
       "      <td>1</td>\n",
       "      <td>D</td>\n",
       "    </tr>\n",
       "  </tbody>\n",
       "</table>"
      ],
      "text/plain": [
       "<IPython.core.display.HTML object>"
      ]
     },
     "metadata": {},
     "output_type": "display_data"
    }
   ],
   "source": [
    "import pdHelpers\n",
    "\n",
    "# Instantiate the pandas helper module\n",
    "helpers = pdHelpers.Helpers()\n",
    "\n",
    "# Show the value count for each column\n",
    "helpers.showValueCount(df)"
   ]
  },
  {
   "cell_type": "markdown",
   "metadata": {},
   "source": [
    "### Find columns matching a Regex pattern"
   ]
  },
  {
   "cell_type": "code",
   "execution_count": 1,
   "metadata": {
    "scrolled": true
   },
   "outputs": [
    {
     "name": "stdout",
     "output_type": "stream",
     "text": [
      "        Foo       Bar    FooBar\n",
      "0  0.017451  0.331383  0.496636\n",
      "1  0.950639  0.054829  0.056220\n",
      "2  0.845740  0.359787  0.809131\n",
      "3  0.640001  0.264786  0.146170\n",
      "4  0.308577  0.832595  0.948198\n"
     ]
    }
   ],
   "source": [
    "import numpy as np\n",
    "import pandas as pd\n",
    "\n",
    "# Create a dataFrame 24 columns wide\n",
    "cols = np.random.rand(5,3)\n",
    "df = pd.DataFrame(cols,columns=['Foo','Bar','FooBar'])\n",
    "\n",
    "print(df)"
   ]
  },
  {
   "cell_type": "code",
   "execution_count": 2,
   "metadata": {},
   "outputs": [
    {
     "data": {
      "text/plain": [
       "Index([u'Bar', u'FooBar'], dtype='object')"
      ]
     },
     "execution_count": 2,
     "metadata": {},
     "output_type": "execute_result"
    }
   ],
   "source": [
    "import pdHelpers\n",
    "\n",
    "# Instantiate the pandas helper module\n",
    "helpers = pdHelpers.Helpers()\n",
    "\n",
    "# Return the column names ending with 'ar'\n",
    "helpers.searchCols(df,'ar$')"
   ]
  },
  {
   "cell_type": "markdown",
   "metadata": {},
   "source": [
    "### Find a dataFrame's dimensions and Metrics"
   ]
  },
  {
   "cell_type": "markdown",
   "metadata": {},
   "source": [
    "Find a DataFrame's dimensions and metrics, the dimensions are columns matching one the following dtypes:\n",
    "\n",
    "* datetime64\n",
    "* category\n",
    "* object\n",
    "* datetime"
   ]
  },
  {
   "cell_type": "code",
   "execution_count": 3,
   "metadata": {
    "scrolled": false
   },
   "outputs": [
    {
     "name": "stdout",
     "output_type": "stream",
     "text": [
      "<class 'pandas.core.frame.DataFrame'>\n",
      "Int64Index: 4 entries, 0 to 3\n",
      "Data columns (total 6 columns):\n",
      "A    4 non-null float64\n",
      "B    4 non-null datetime64[ns]\n",
      "C    4 non-null float32\n",
      "D    4 non-null int32\n",
      "E    4 non-null category\n",
      "F    4 non-null object\n",
      "dtypes: category(1), datetime64[ns](1), float32(1), float64(1), int32(1), object(1)\n",
      "memory usage: 260.0+ bytes\n",
      "None\n"
     ]
    },
    {
     "data": {
      "text/html": [
       "<div>\n",
       "<style>\n",
       "    .dataframe thead tr:only-child th {\n",
       "        text-align: right;\n",
       "    }\n",
       "\n",
       "    .dataframe thead th {\n",
       "        text-align: left;\n",
       "    }\n",
       "\n",
       "    .dataframe tbody tr th {\n",
       "        vertical-align: top;\n",
       "    }\n",
       "</style>\n",
       "<table border=\"1\" class=\"dataframe\">\n",
       "  <thead>\n",
       "    <tr style=\"text-align: right;\">\n",
       "      <th></th>\n",
       "      <th>A</th>\n",
       "      <th>B</th>\n",
       "      <th>C</th>\n",
       "      <th>D</th>\n",
       "      <th>E</th>\n",
       "      <th>F</th>\n",
       "    </tr>\n",
       "  </thead>\n",
       "  <tbody>\n",
       "    <tr>\n",
       "      <th>0</th>\n",
       "      <td>1.0</td>\n",
       "      <td>2013-01-02</td>\n",
       "      <td>1.0</td>\n",
       "      <td>3</td>\n",
       "      <td>test</td>\n",
       "      <td>foo</td>\n",
       "    </tr>\n",
       "    <tr>\n",
       "      <th>1</th>\n",
       "      <td>1.0</td>\n",
       "      <td>2013-01-02</td>\n",
       "      <td>1.0</td>\n",
       "      <td>3</td>\n",
       "      <td>train</td>\n",
       "      <td>foo</td>\n",
       "    </tr>\n",
       "    <tr>\n",
       "      <th>2</th>\n",
       "      <td>1.0</td>\n",
       "      <td>2013-01-02</td>\n",
       "      <td>1.0</td>\n",
       "      <td>3</td>\n",
       "      <td>test</td>\n",
       "      <td>foo</td>\n",
       "    </tr>\n",
       "    <tr>\n",
       "      <th>3</th>\n",
       "      <td>1.0</td>\n",
       "      <td>2013-01-02</td>\n",
       "      <td>1.0</td>\n",
       "      <td>3</td>\n",
       "      <td>train</td>\n",
       "      <td>foo</td>\n",
       "    </tr>\n",
       "  </tbody>\n",
       "</table>\n",
       "</div>"
      ],
      "text/plain": [
       "     A          B    C  D      E    F\n",
       "0  1.0 2013-01-02  1.0  3   test  foo\n",
       "1  1.0 2013-01-02  1.0  3  train  foo\n",
       "2  1.0 2013-01-02  1.0  3   test  foo\n",
       "3  1.0 2013-01-02  1.0  3  train  foo"
      ]
     },
     "execution_count": 3,
     "metadata": {},
     "output_type": "execute_result"
    }
   ],
   "source": [
    "import pdHelpers\n",
    "\n",
    "# Instantiate the pandas helper module\n",
    "helpers = pdHelpers.Helpers()\n",
    "\n",
    "# Generate a dataFrame\n",
    "df = helpers.generate_Df()\n",
    "print(df.info())\n",
    "df\n"
   ]
  },
  {
   "cell_type": "code",
   "execution_count": 2,
   "metadata": {},
   "outputs": [
    {
     "data": {
      "text/plain": [
       "['B', 'E', 'F']"
      ]
     },
     "execution_count": 2,
     "metadata": {},
     "output_type": "execute_result"
    }
   ],
   "source": [
    "# Find the dataFrame's dimensions\n",
    "helpers.findDimensions(df)"
   ]
  },
  {
   "cell_type": "code",
   "execution_count": 3,
   "metadata": {},
   "outputs": [
    {
     "data": {
      "text/plain": [
       "['A', 'C', 'D']"
      ]
     },
     "execution_count": 3,
     "metadata": {},
     "output_type": "execute_result"
    }
   ],
   "source": [
    "# Find the dataFrame's metrics\n",
    "helpers.findMetrics(df)"
   ]
  },
  {
   "cell_type": "markdown",
   "metadata": {},
   "source": [
    "## Compare columns between dataFrames"
   ]
  },
  {
   "cell_type": "markdown",
   "metadata": {},
   "source": [
    "### commonCols - Get common columns\n",
    "\n",
    "Perform a discrepancy check between two data frames, it compares on the common dimensions and metrics \n",
    "between the two data frames.\n",
    "\n",
    "This method returns a dict with three keys:\n",
    "\n",
    "* **commonDims**: The dimensions present in both columns.both.\n",
    "* **commonMetrics**: The metrics present in both columns.\n",
    "* **commonCols**: The columns present in df1 not present in df2 (metrics + dimensions)\n",
    "\n",
    "### diffCols - Get diverging columns\n",
    "\n",
    "Get the names of the columns present in the first dataframe specified and absent in the second.\n",
    "\n",
    "This method returns a dict with three keys:\n",
    "\n",
    "* **dimDiff**: The dimensions present in df1 not present in df2.\n",
    "* **metricDiff**: The metrics present in df1 not present in df2.\n",
    "* **allcolsDif**: The columns present in df1 not present in df2 (metrics + dimensions)."
   ]
  },
  {
   "cell_type": "code",
   "execution_count": 8,
   "metadata": {},
   "outputs": [
    {
     "name": "stdout",
     "output_type": "stream",
     "text": [
      "df1\n",
      "________________________________________\n",
      "\n",
      "     A          B    C  D      E    F\n",
      "0  1.0 2013-01-02  1.0  3   test  foo\n",
      "1  1.0 2013-01-02  1.0  3  train  foo\n",
      "2  1.0 2013-01-02  1.0  3   test  foo\n",
      "3  1.0 2013-01-02  1.0  3  train  foo\n",
      "\n",
      "df2\n",
      "________________________________________\n",
      "\n",
      "           B  D  H\n",
      "0 2013-01-02  3  9\n",
      "1 2013-01-02  3  9\n",
      "2 2013-01-02  3  9\n",
      "3 2013-01-02  3  9\n",
      "\n",
      "Common columns\n",
      "________________________________________\n",
      "\n",
      "{'commonCols': ['B', 'D'], 'commonDims': ['B'], 'commonMetrics': ['D']}\n",
      "\n",
      "Diverging columns\n",
      "________________________________________\n",
      "\n",
      "{'allcolsDif': ['A', 'C', 'E', 'F'],\n",
      " 'dimDiff': ['E', 'F'],\n",
      " 'metricDiff': ['A', 'C']}\n"
     ]
    }
   ],
   "source": [
    "import pdHelpers\n",
    "import pprint\n",
    "\n",
    "# Instantiate the pandas helper module\n",
    "helpers = pdHelpers.Helpers()\n",
    "\n",
    "# Generate the dataFrames\n",
    "df1 = helpers.generate_Df()\n",
    "df2 = (df[['B','D']]\n",
    "         .assign(H=df.D*3))\n",
    "\n",
    "# Print the two dataframes\n",
    "separation = \"_\" * 40\n",
    "print(\"df1\\n{0}\\n\\n{1}\\n\".format(separation,df1))\n",
    "print(\"df2\\n{0}\\n\\n{1}\\n\".format(separation,df2))\n",
    "\n",
    "# find the commmon columns\n",
    "common = helpers.commonCols(df1,df2)\n",
    "print(\"Common columns\\n{0}\\n\".format(separation))\n",
    "pprint.pprint(common)\n",
    "\n",
    "# find the diverging columns\n",
    "difference = helpers.diffCols(df1,df2)\n",
    "print(\"\\nDiverging columns\\n{0}\\n\".format(separation))\n",
    "pprint.pprint(difference)"
   ]
  },
  {
   "cell_type": "markdown",
   "metadata": {},
   "source": [
    "## Generate a sample dataFrame"
   ]
  },
  {
   "cell_type": "markdown",
   "metadata": {},
   "source": [
    "Generate a sample pandas DataFrame with the following column types:\n",
    "\n",
    "\n",
    "* float64\n",
    "* datetime64[ns]\n",
    "* float32\n",
    "* int32\n",
    "* int32\n",
    "* category\n",
    "* object "
   ]
  },
  {
   "cell_type": "code",
   "execution_count": 1,
   "metadata": {
    "scrolled": true
   },
   "outputs": [
    {
     "name": "stdout",
     "output_type": "stream",
     "text": [
      "<class 'pandas.core.frame.DataFrame'>\n",
      "Int64Index: 4 entries, 0 to 3\n",
      "Data columns (total 6 columns):\n",
      "A    4 non-null float64\n",
      "B    4 non-null datetime64[ns]\n",
      "C    4 non-null float32\n",
      "D    4 non-null int32\n",
      "E    4 non-null category\n",
      "F    4 non-null object\n",
      "dtypes: category(1), datetime64[ns](1), float32(1), float64(1), int32(1), object(1)\n",
      "memory usage: 260.0+ bytes\n"
     ]
    },
    {
     "data": {
      "text/html": [
       "<div>\n",
       "<style>\n",
       "    .dataframe thead tr:only-child th {\n",
       "        text-align: right;\n",
       "    }\n",
       "\n",
       "    .dataframe thead th {\n",
       "        text-align: left;\n",
       "    }\n",
       "\n",
       "    .dataframe tbody tr th {\n",
       "        vertical-align: top;\n",
       "    }\n",
       "</style>\n",
       "<table border=\"1\" class=\"dataframe\">\n",
       "  <thead>\n",
       "    <tr style=\"text-align: right;\">\n",
       "      <th></th>\n",
       "      <th>A</th>\n",
       "      <th>B</th>\n",
       "      <th>C</th>\n",
       "      <th>D</th>\n",
       "      <th>E</th>\n",
       "      <th>F</th>\n",
       "    </tr>\n",
       "  </thead>\n",
       "  <tbody>\n",
       "    <tr>\n",
       "      <th>0</th>\n",
       "      <td>1.0</td>\n",
       "      <td>2013-01-02</td>\n",
       "      <td>1.0</td>\n",
       "      <td>3</td>\n",
       "      <td>test</td>\n",
       "      <td>foo</td>\n",
       "    </tr>\n",
       "    <tr>\n",
       "      <th>1</th>\n",
       "      <td>1.0</td>\n",
       "      <td>2013-01-02</td>\n",
       "      <td>1.0</td>\n",
       "      <td>3</td>\n",
       "      <td>train</td>\n",
       "      <td>foo</td>\n",
       "    </tr>\n",
       "    <tr>\n",
       "      <th>2</th>\n",
       "      <td>1.0</td>\n",
       "      <td>2013-01-02</td>\n",
       "      <td>1.0</td>\n",
       "      <td>3</td>\n",
       "      <td>test</td>\n",
       "      <td>foo</td>\n",
       "    </tr>\n",
       "    <tr>\n",
       "      <th>3</th>\n",
       "      <td>1.0</td>\n",
       "      <td>2013-01-02</td>\n",
       "      <td>1.0</td>\n",
       "      <td>3</td>\n",
       "      <td>train</td>\n",
       "      <td>foo</td>\n",
       "    </tr>\n",
       "  </tbody>\n",
       "</table>\n",
       "</div>"
      ],
      "text/plain": [
       "     A          B    C  D      E    F\n",
       "0  1.0 2013-01-02  1.0  3   test  foo\n",
       "1  1.0 2013-01-02  1.0  3  train  foo\n",
       "2  1.0 2013-01-02  1.0  3   test  foo\n",
       "3  1.0 2013-01-02  1.0  3  train  foo"
      ]
     },
     "execution_count": 1,
     "metadata": {},
     "output_type": "execute_result"
    }
   ],
   "source": [
    "import pdHelpers\n",
    "\n",
    "# Instantiate the pandas helper module\n",
    "helpers = pdHelpers.Helpers()\n",
    "\n",
    "# Generate a sample dataFrame\n",
    "df = helpers.generate_Df()\n",
    "\n",
    "df.info()\n",
    "\n",
    "df"
   ]
  },
  {
   "cell_type": "markdown",
   "metadata": {},
   "source": [
    "## Delete columns safely"
   ]
  },
  {
   "cell_type": "markdown",
   "metadata": {},
   "source": [
    "Safely delete a DataFrame column whithout raising an error if the column doesn't exist."
   ]
  },
  {
   "cell_type": "code",
   "execution_count": 2,
   "metadata": {
    "scrolled": true
   },
   "outputs": [
    {
     "data": {
      "text/html": [
       "<div>\n",
       "<style>\n",
       "    .dataframe thead tr:only-child th {\n",
       "        text-align: right;\n",
       "    }\n",
       "\n",
       "    .dataframe thead th {\n",
       "        text-align: left;\n",
       "    }\n",
       "\n",
       "    .dataframe tbody tr th {\n",
       "        vertical-align: top;\n",
       "    }\n",
       "</style>\n",
       "<table border=\"1\" class=\"dataframe\">\n",
       "  <thead>\n",
       "    <tr style=\"text-align: right;\">\n",
       "      <th></th>\n",
       "      <th>A</th>\n",
       "      <th>B</th>\n",
       "      <th>C</th>\n",
       "      <th>D</th>\n",
       "      <th>E</th>\n",
       "      <th>F</th>\n",
       "    </tr>\n",
       "  </thead>\n",
       "  <tbody>\n",
       "    <tr>\n",
       "      <th>0</th>\n",
       "      <td>1.0</td>\n",
       "      <td>2013-01-02</td>\n",
       "      <td>1.0</td>\n",
       "      <td>3</td>\n",
       "      <td>test</td>\n",
       "      <td>foo</td>\n",
       "    </tr>\n",
       "    <tr>\n",
       "      <th>1</th>\n",
       "      <td>1.0</td>\n",
       "      <td>2013-01-02</td>\n",
       "      <td>1.0</td>\n",
       "      <td>3</td>\n",
       "      <td>train</td>\n",
       "      <td>foo</td>\n",
       "    </tr>\n",
       "    <tr>\n",
       "      <th>2</th>\n",
       "      <td>1.0</td>\n",
       "      <td>2013-01-02</td>\n",
       "      <td>1.0</td>\n",
       "      <td>3</td>\n",
       "      <td>test</td>\n",
       "      <td>foo</td>\n",
       "    </tr>\n",
       "    <tr>\n",
       "      <th>3</th>\n",
       "      <td>1.0</td>\n",
       "      <td>2013-01-02</td>\n",
       "      <td>1.0</td>\n",
       "      <td>3</td>\n",
       "      <td>train</td>\n",
       "      <td>foo</td>\n",
       "    </tr>\n",
       "  </tbody>\n",
       "</table>\n",
       "</div>"
      ],
      "text/plain": [
       "     A          B    C  D      E    F\n",
       "0  1.0 2013-01-02  1.0  3   test  foo\n",
       "1  1.0 2013-01-02  1.0  3  train  foo\n",
       "2  1.0 2013-01-02  1.0  3   test  foo\n",
       "3  1.0 2013-01-02  1.0  3  train  foo"
      ]
     },
     "execution_count": 2,
     "metadata": {},
     "output_type": "execute_result"
    }
   ],
   "source": [
    "import pdHelpers\n",
    "\n",
    "# Instantiate the pandas helper module\n",
    "helpers = pdHelpers.Helpers()\n",
    "\n",
    "df = helpers.generate_Df()\n",
    "df"
   ]
  },
  {
   "cell_type": "code",
   "execution_count": 3,
   "metadata": {},
   "outputs": [
    {
     "data": {
      "text/html": [
       "<div>\n",
       "<style>\n",
       "    .dataframe thead tr:only-child th {\n",
       "        text-align: right;\n",
       "    }\n",
       "\n",
       "    .dataframe thead th {\n",
       "        text-align: left;\n",
       "    }\n",
       "\n",
       "    .dataframe tbody tr th {\n",
       "        vertical-align: top;\n",
       "    }\n",
       "</style>\n",
       "<table border=\"1\" class=\"dataframe\">\n",
       "  <thead>\n",
       "    <tr style=\"text-align: right;\">\n",
       "      <th></th>\n",
       "      <th>A</th>\n",
       "      <th>B</th>\n",
       "      <th>C</th>\n",
       "      <th>D</th>\n",
       "      <th>E</th>\n",
       "      <th>F</th>\n",
       "    </tr>\n",
       "  </thead>\n",
       "  <tbody>\n",
       "    <tr>\n",
       "      <th>0</th>\n",
       "      <td>1.0</td>\n",
       "      <td>2013-01-02</td>\n",
       "      <td>1.0</td>\n",
       "      <td>3</td>\n",
       "      <td>test</td>\n",
       "      <td>foo</td>\n",
       "    </tr>\n",
       "    <tr>\n",
       "      <th>1</th>\n",
       "      <td>1.0</td>\n",
       "      <td>2013-01-02</td>\n",
       "      <td>1.0</td>\n",
       "      <td>3</td>\n",
       "      <td>train</td>\n",
       "      <td>foo</td>\n",
       "    </tr>\n",
       "    <tr>\n",
       "      <th>2</th>\n",
       "      <td>1.0</td>\n",
       "      <td>2013-01-02</td>\n",
       "      <td>1.0</td>\n",
       "      <td>3</td>\n",
       "      <td>test</td>\n",
       "      <td>foo</td>\n",
       "    </tr>\n",
       "    <tr>\n",
       "      <th>3</th>\n",
       "      <td>1.0</td>\n",
       "      <td>2013-01-02</td>\n",
       "      <td>1.0</td>\n",
       "      <td>3</td>\n",
       "      <td>train</td>\n",
       "      <td>foo</td>\n",
       "    </tr>\n",
       "  </tbody>\n",
       "</table>\n",
       "</div>"
      ],
      "text/plain": [
       "     A          B    C  D      E    F\n",
       "0  1.0 2013-01-02  1.0  3   test  foo\n",
       "1  1.0 2013-01-02  1.0  3  train  foo\n",
       "2  1.0 2013-01-02  1.0  3   test  foo\n",
       "3  1.0 2013-01-02  1.0  3  train  foo"
      ]
     },
     "execution_count": 3,
     "metadata": {},
     "output_type": "execute_result"
    }
   ],
   "source": [
    "# Try to delete a non existing column\n",
    "helpers.deleteCol(df,'G')\n",
    "df"
   ]
  },
  {
   "cell_type": "markdown",
   "metadata": {},
   "source": [
    "## Appending and replacing new dates to a dataFrame"
   ]
  },
  {
   "cell_type": "markdown",
   "metadata": {},
   "source": [
    "The following method appends new rows to a dataframe from another dataframe based on its date index. Duplicate rows are replaced by rows from the newer dataFrame.\n",
    "\n",
    "Let's first create two sample dataFrames:"
   ]
  },
  {
   "cell_type": "code",
   "execution_count": 9,
   "metadata": {},
   "outputs": [
    {
     "name": "stdout",
     "output_type": "stream",
     "text": [
      "df1\n",
      "________________________________________\n",
      "\n",
      "        Date  Values\n",
      "0 2012-04-01       7\n",
      "1 2012-04-02       6\n",
      "2 2012-04-03       8\n",
      "3 2012-04-04       4\n",
      "4 2012-04-05       9\n",
      "5 2012-04-06       9\n",
      "\n",
      "df2\n",
      "________________________________________\n",
      "\n",
      "        Date  Values\n",
      "0 2012-04-03       6\n",
      "1 2012-04-04       6\n",
      "2 2012-04-05       1\n",
      "3 2012-04-06       7\n",
      "4 2012-04-07       7\n",
      "5 2012-04-08       3\n",
      "\n"
     ]
    }
   ],
   "source": [
    "import pandas as pd\n",
    "import numpy as np\n",
    "\n",
    "\n",
    "def generateValues(timeSeries):\n",
    "    for i in range(len(timeSeries)):\n",
    "        yield np.random.randint(1, 10)\n",
    "\n",
    "\n",
    "# Set the time series\n",
    "ts1 = pd.date_range('2012-04-01', '2012-04-06')\n",
    "ts2 = pd.date_range('2012-04-03', '2012-04-08')\n",
    "\n",
    "# Generate the dataFrames\n",
    "df1 = pd.DataFrame({'Date': ts1, 'Values': list(generateValues(ts1))})\n",
    "df2 = pd.DataFrame({'Date': ts2, 'Values': list(generateValues(ts2))})\n",
    "\n",
    "separation = \"_\" * 40\n",
    "print(\"df1\\n{0}\\n\\n{1}\\n\".format(separation,df1))\n",
    "print(\"df2\\n{0}\\n\\n{1}\\n\".format(separation,df2))\n"
   ]
  },
  {
   "cell_type": "markdown",
   "metadata": {},
   "source": [
    "You can append the new values based on a column containing datetime values:"
   ]
  },
  {
   "cell_type": "code",
   "execution_count": 6,
   "metadata": {},
   "outputs": [
    {
     "data": {
      "text/html": [
       "<div>\n",
       "<style>\n",
       "    .dataframe thead tr:only-child th {\n",
       "        text-align: right;\n",
       "    }\n",
       "\n",
       "    .dataframe thead th {\n",
       "        text-align: left;\n",
       "    }\n",
       "\n",
       "    .dataframe tbody tr th {\n",
       "        vertical-align: top;\n",
       "    }\n",
       "</style>\n",
       "<table border=\"1\" class=\"dataframe\">\n",
       "  <thead>\n",
       "    <tr style=\"text-align: right;\">\n",
       "      <th></th>\n",
       "      <th>Date</th>\n",
       "      <th>Values</th>\n",
       "    </tr>\n",
       "  </thead>\n",
       "  <tbody>\n",
       "    <tr>\n",
       "      <th>0</th>\n",
       "      <td>2012-04-01</td>\n",
       "      <td>6</td>\n",
       "    </tr>\n",
       "    <tr>\n",
       "      <th>1</th>\n",
       "      <td>2012-04-02</td>\n",
       "      <td>6</td>\n",
       "    </tr>\n",
       "    <tr>\n",
       "      <th>0</th>\n",
       "      <td>2012-04-03</td>\n",
       "      <td>6</td>\n",
       "    </tr>\n",
       "    <tr>\n",
       "      <th>1</th>\n",
       "      <td>2012-04-04</td>\n",
       "      <td>9</td>\n",
       "    </tr>\n",
       "    <tr>\n",
       "      <th>2</th>\n",
       "      <td>2012-04-05</td>\n",
       "      <td>4</td>\n",
       "    </tr>\n",
       "    <tr>\n",
       "      <th>3</th>\n",
       "      <td>2012-04-06</td>\n",
       "      <td>9</td>\n",
       "    </tr>\n",
       "    <tr>\n",
       "      <th>4</th>\n",
       "      <td>2012-04-07</td>\n",
       "      <td>6</td>\n",
       "    </tr>\n",
       "    <tr>\n",
       "      <th>5</th>\n",
       "      <td>2012-04-08</td>\n",
       "      <td>8</td>\n",
       "    </tr>\n",
       "  </tbody>\n",
       "</table>\n",
       "</div>"
      ],
      "text/plain": [
       "        Date  Values\n",
       "0 2012-04-01       6\n",
       "1 2012-04-02       6\n",
       "0 2012-04-03       6\n",
       "1 2012-04-04       9\n",
       "2 2012-04-05       4\n",
       "3 2012-04-06       9\n",
       "4 2012-04-07       6\n",
       "5 2012-04-08       8"
      ]
     },
     "execution_count": 6,
     "metadata": {},
     "output_type": "execute_result"
    }
   ],
   "source": [
    "import pdHelpers\n",
    "\n",
    "# Instantiate the pandas helper module\n",
    "helpers = pdHelpers.Helpers()\n",
    "\n",
    "# append the new dates\n",
    "newDf = helpers.appendNewDates(df1,df2,index_column='Date')\n",
    "newDf"
   ]
  },
  {
   "cell_type": "markdown",
   "metadata": {},
   "source": [
    "You can also append the new values based the dataFrame's date index:"
   ]
  },
  {
   "cell_type": "code",
   "execution_count": 7,
   "metadata": {},
   "outputs": [
    {
     "data": {
      "text/html": [
       "<div>\n",
       "<style>\n",
       "    .dataframe thead tr:only-child th {\n",
       "        text-align: right;\n",
       "    }\n",
       "\n",
       "    .dataframe thead th {\n",
       "        text-align: left;\n",
       "    }\n",
       "\n",
       "    .dataframe tbody tr th {\n",
       "        vertical-align: top;\n",
       "    }\n",
       "</style>\n",
       "<table border=\"1\" class=\"dataframe\">\n",
       "  <thead>\n",
       "    <tr style=\"text-align: right;\">\n",
       "      <th></th>\n",
       "      <th>Values</th>\n",
       "    </tr>\n",
       "    <tr>\n",
       "      <th>Date</th>\n",
       "      <th></th>\n",
       "    </tr>\n",
       "  </thead>\n",
       "  <tbody>\n",
       "    <tr>\n",
       "      <th>2012-04-01</th>\n",
       "      <td>6</td>\n",
       "    </tr>\n",
       "    <tr>\n",
       "      <th>2012-04-02</th>\n",
       "      <td>6</td>\n",
       "    </tr>\n",
       "    <tr>\n",
       "      <th>2012-04-03</th>\n",
       "      <td>6</td>\n",
       "    </tr>\n",
       "    <tr>\n",
       "      <th>2012-04-04</th>\n",
       "      <td>9</td>\n",
       "    </tr>\n",
       "    <tr>\n",
       "      <th>2012-04-05</th>\n",
       "      <td>4</td>\n",
       "    </tr>\n",
       "    <tr>\n",
       "      <th>2012-04-06</th>\n",
       "      <td>9</td>\n",
       "    </tr>\n",
       "    <tr>\n",
       "      <th>2012-04-07</th>\n",
       "      <td>6</td>\n",
       "    </tr>\n",
       "    <tr>\n",
       "      <th>2012-04-08</th>\n",
       "      <td>8</td>\n",
       "    </tr>\n",
       "  </tbody>\n",
       "</table>\n",
       "</div>"
      ],
      "text/plain": [
       "            Values\n",
       "Date              \n",
       "2012-04-01       6\n",
       "2012-04-02       6\n",
       "2012-04-03       6\n",
       "2012-04-04       9\n",
       "2012-04-05       4\n",
       "2012-04-06       9\n",
       "2012-04-07       6\n",
       "2012-04-08       8"
      ]
     },
     "execution_count": 7,
     "metadata": {},
     "output_type": "execute_result"
    }
   ],
   "source": [
    "df1_indexed = df1.set_index('Date')\n",
    "df2_indexed = df2.set_index('Date')\n",
    "\n",
    "df_indexed = helpers.appendNewDates(df1_indexed, df2_indexed)\n",
    "df_indexed\n"
   ]
  },
  {
   "cell_type": "markdown",
   "metadata": {},
   "source": [
    "## Convert a column to datetime index"
   ]
  },
  {
   "cell_type": "markdown",
   "metadata": {},
   "source": [
    "Converts a date column to a datetime format and sets it as a sorted index."
   ]
  },
  {
   "cell_type": "code",
   "execution_count": 10,
   "metadata": {},
   "outputs": [
    {
     "name": "stdout",
     "output_type": "stream",
     "text": [
      "The original dataframe dtypes\n",
      "________________________________________\n",
      "<class 'pandas.core.frame.DataFrame'>\n",
      "RangeIndex: 8 entries, 0 to 7\n",
      "Data columns (total 2 columns):\n",
      "Dates     8 non-null object\n",
      "Values    8 non-null int64\n",
      "dtypes: int64(1), object(1)\n",
      "memory usage: 200.0+ bytes\n",
      "\n",
      "The original dataFrame\n",
      "________________________________________\n",
      "\n",
      "        Dates  Values\n",
      "0  2012-04-01       2\n",
      "1  2012-04-02       1\n",
      "2  2012-04-03       3\n",
      "3  2012-04-04       3\n",
      "4  2012-04-05       9\n",
      "5  2012-04-06       6\n",
      "6  2012-04-07       3\n",
      "7  2012-04-08       1\n",
      "\n",
      "\n",
      "The converted dataFrame\n",
      "________________________________________\n",
      "\n",
      "            Values\n",
      "Date              \n",
      "2012-04-01       2\n",
      "2012-04-02       1\n",
      "2012-04-03       3\n",
      "2012-04-04       3\n",
      "2012-04-05       9\n",
      "2012-04-06       6\n",
      "2012-04-07       3\n",
      "2012-04-08       1\n",
      "\n"
     ]
    }
   ],
   "source": [
    "import numpy as np\n",
    "import pandas as pd\n",
    "import pdHelpers\n",
    "\n",
    "# Instantiate the pandas helper module\n",
    "helpers = pdHelpers.Helpers()\n",
    "\n",
    "# Create the time series\n",
    "ts = ('2012-04-0{}'.format(x) for x in range(1,9))\n",
    "\n",
    "# Generate the dataFrame\n",
    "df = pd.DataFrame(dict(Dates=list(ts), Values=[\n",
    "                        np.random.randint(1, 10) for x in range(1,9)]))\n",
    "\n",
    "# convert the date column and set it as index\n",
    "indexed_df = helpers.setDateIndex(df,'Dates')\n",
    "\n",
    "# Print the results\n",
    "separation = \"_\" * 40\n",
    "print(\"The original dataframe dtypes\\n{0}\".format(separation))\n",
    "info = df.info()\n",
    "print(\"\\nThe original dataFrame\\n{0}\\n\\n{1}\\n\".format(separation,df))\n",
    "print(\"\\nThe converted dataFrame\\n{0}\\n\\n{1}\\n\".format(separation,indexed_df))\n"
   ]
  }
 ],
 "metadata": {
  "kernelspec": {
   "display_name": "Python 2",
   "language": "python",
   "name": "python2"
  },
  "language_info": {
   "codemirror_mode": {
    "name": "ipython",
    "version": 2
   },
   "file_extension": ".py",
   "mimetype": "text/x-python",
   "name": "python",
   "nbconvert_exporter": "python",
   "pygments_lexer": "ipython2",
   "version": "2.7.13"
  },
  "toc": {
   "nav_menu": {},
   "number_sections": false,
   "sideBar": true,
   "skip_h1_title": false,
   "toc_cell": true,
   "toc_position": {
    "height": "629px",
    "left": "0px",
    "right": "auto",
    "top": "106px",
    "width": "403px"
   },
   "toc_section_display": "block",
   "toc_window_display": false
  }
 },
 "nbformat": 4,
 "nbformat_minor": 2
}
